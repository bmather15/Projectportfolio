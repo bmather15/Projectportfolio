{
 "cells": [
  {
   "cell_type": "markdown",
   "id": "157450c7",
   "metadata": {},
   "source": [
    "Brandon Mather DSC550-T301 - Final Project"
   ]
  },
  {
   "cell_type": "markdown",
   "id": "7865cfa6",
   "metadata": {},
   "source": [
    "Introduction:"
   ]
  },
  {
   "cell_type": "markdown",
   "id": "b1503797",
   "metadata": {},
   "source": [
    "In the current atmosphere, sports betting is on the rise. Everybody is looking for an edge into figuring out the best odds of winning including the people placing the bets, but also the companies. Through data we can try and figure out the best way to find out which teams are more likely to beat another to gain an edge. This analysis will be most useful to sports betting companies so that they know the best odds to put games at. I will be focusing on the NFL for this project, using data from the last three seasons, and will be proving that scoring is not the single thing that can make a team win, there are a lot of factors that go into a game. I will be using a logistic regression model to best determine which teams are most likely to win in a scenario. This will help sports betting companies get an even better edge on the bettor. I believe that this type of model would be useful in other leagues as well, but the statistics would have to change. The overall goal of the model will be to determine who would win in a head to head matchup based off wins in the last 3 seasons. All of the data has been collected from https://www.pro-football-reference.com/."
   ]
  },
  {
   "cell_type": "markdown",
   "id": "2c50288f",
   "metadata": {},
   "source": [
    "Data Preparation:"
   ]
  },
  {
   "cell_type": "code",
   "execution_count": 94,
   "id": "cabad8d5",
   "metadata": {},
   "outputs": [],
   "source": [
    "import pandas as pd\n",
    "import matplotlib as mpl\n",
    "import matplotlib.pyplot as plt\n",
    "import numpy as np\n",
    "from sklearn.model_selection import train_test_split\n",
    "from sklearn.linear_model import LogisticRegression\n",
    "from sklearn.preprocessing import StandardScaler\n",
    "from sklearn.pipeline import make_pipeline\n",
    "import seaborn as sns"
   ]
  },
  {
   "cell_type": "code",
   "execution_count": 2,
   "id": "236ea105",
   "metadata": {},
   "outputs": [],
   "source": [
    "standings_2020 = pd.read_csv('NFL_standings20.csv')\n",
    "standings_2021 = pd.read_csv('NFL_standings21.csv')\n",
    "standings_2022 = pd.read_csv('NFL_standings22.csv')\n",
    "stats_2020 = pd.read_csv('NFL_stats2020.csv')\n",
    "stats_2021 = pd.read_csv('NFL_stats2021.csv')\n",
    "stats_2022 = pd.read_csv('NFL_stats2022.csv')\n",
    "defense_2020 = pd.read_csv('NFL_defense2020.csv')\n",
    "defense_2021 = pd.read_csv('NFL_defense2021.csv')\n",
    "defense_2022 = pd.read_csv('NFL_defense2022.csv')"
   ]
  },
  {
   "cell_type": "code",
   "execution_count": 3,
   "id": "706471ef",
   "metadata": {},
   "outputs": [],
   "source": [
    "to_drop_standings = ['W-L%', 'PF', 'PA', 'SoS', 'SRS', 'OSRS', 'DSRS']\n",
    "to_drop_defense = ['Rk', 'G', 'Ply', 'Y/P', 'FL', 'Cmp', 'Att', 'Yds', 'TD', 'Int', 'NY/A', 'Y/A', '1stD', \n",
    "                   'Att','1stPy', 'TO%', 'EXP']\n",
    "to_drop_stats = ['Rk', 'G', 'Ply', 'Y/P', 'FL', 'Cmp', 'PassAtt', 'PassYds', 'PassTD', 'Int', 'NY/A', 'Pass1stD', 'RushAtt',\n",
    "                 'RushYds', 'RushTD', 'Y/A', 'Rush1stD', 'PenYds', '1stPy', 'TO%', 'EXP']"
   ]
  },
  {
   "cell_type": "code",
   "execution_count": 4,
   "id": "bca13878",
   "metadata": {},
   "outputs": [],
   "source": [
    "stats_2020.drop(to_drop_stats, inplace=True, axis=1)\n",
    "stats_2021.drop(to_drop_stats, inplace=True, axis=1) \n",
    "stats_2022.drop(to_drop_stats, inplace=True, axis=1) \n",
    "defense_2020.drop(to_drop_defense, inplace=True, axis=1) \n",
    "defense_2021.drop(to_drop_defense, inplace=True, axis=1) \n",
    "defense_2022.drop(to_drop_defense, inplace=True, axis=1)\n",
    "standings_2020.drop(to_drop_standings, inplace=True, axis=1) \n",
    "standings_2021.drop(to_drop_standings, inplace=True, axis=1) \n",
    "standings_2022.drop(to_drop_standings, inplace=True, axis=1)"
   ]
  },
  {
   "cell_type": "code",
   "execution_count": 5,
   "id": "165be1c7",
   "metadata": {},
   "outputs": [],
   "source": [
    "to_drop_defense2 = ['1stD.1', 'Att.1', 'Yds.1', 'TD.1', '1stD.2', 'Yds.2']"
   ]
  },
  {
   "cell_type": "code",
   "execution_count": 6,
   "id": "19b4b2b1",
   "metadata": {},
   "outputs": [],
   "source": [
    "defense_2020.drop(to_drop_defense2, inplace=True, axis=1) \n",
    "defense_2021.drop(to_drop_defense2, inplace=True, axis=1) \n",
    "defense_2022.drop(to_drop_defense2, inplace=True, axis=1)"
   ]
  },
  {
   "cell_type": "code",
   "execution_count": 7,
   "id": "588f8e3f",
   "metadata": {},
   "outputs": [],
   "source": [
    "stats_Merged_data = pd.concat([stats_2020, stats_2021]).groupby(['Tm']).sum().reset_index()"
   ]
  },
  {
   "cell_type": "code",
   "execution_count": 8,
   "id": "7649770d",
   "metadata": {},
   "outputs": [],
   "source": [
    "stats_Merged_data = pd.concat([stats_Merged_data, stats_2022]).groupby(['Tm']).sum().reset_index()"
   ]
  },
  {
   "cell_type": "code",
   "execution_count": 9,
   "id": "0fc6ad0a",
   "metadata": {},
   "outputs": [],
   "source": [
    "defense_Merged_data = pd.concat([defense_2020, defense_2021]).groupby(['Tm']).sum().reset_index()"
   ]
  },
  {
   "cell_type": "code",
   "execution_count": 10,
   "id": "f9071e19",
   "metadata": {},
   "outputs": [],
   "source": [
    "defense_Merged_data = pd.concat([defense_Merged_data, defense_2022]).groupby(['Tm']).sum().reset_index()"
   ]
  },
  {
   "cell_type": "code",
   "execution_count": 11,
   "id": "895a8bbc",
   "metadata": {},
   "outputs": [],
   "source": [
    "standings_Merged_data = pd.concat([standings_2020, standings_2021]).groupby(['Tm']).sum().reset_index()"
   ]
  },
  {
   "cell_type": "code",
   "execution_count": 12,
   "id": "89f0654a",
   "metadata": {},
   "outputs": [],
   "source": [
    "standings_Merged_data = pd.concat([standings_Merged_data, standings_2022]).groupby(['Tm']).sum().reset_index()"
   ]
  },
  {
   "cell_type": "code",
   "execution_count": 13,
   "id": "d2f7dfc4",
   "metadata": {},
   "outputs": [],
   "source": [
    "defense_Merged_data = defense_Merged_data.rename(columns = {'TO':'DeffenseTO'})"
   ]
  },
  {
   "cell_type": "code",
   "execution_count": 14,
   "id": "c09b0d07",
   "metadata": {},
   "outputs": [],
   "source": [
    "stats_Merged_data = stats_Merged_data.rename(columns = {'TO':'OffenseTO'})"
   ]
  },
  {
   "cell_type": "code",
   "execution_count": 15,
   "id": "794357a9",
   "metadata": {},
   "outputs": [],
   "source": [
    "final_merged_data = pd.merge(stats_Merged_data, defense_Merged_data, on='Tm')"
   ]
  },
  {
   "cell_type": "code",
   "execution_count": 16,
   "id": "93f84485",
   "metadata": {},
   "outputs": [],
   "source": [
    "final_merged_data = pd.merge(final_merged_data, standings_Merged_data, on='Tm')"
   ]
  },
  {
   "cell_type": "code",
   "execution_count": 17,
   "id": "4a3fdf7e",
   "metadata": {
    "scrolled": true
   },
   "outputs": [],
   "source": [
    "final_merged_data.drop('Tm', inplace=True, axis=1)"
   ]
  },
  {
   "cell_type": "code",
   "execution_count": 18,
   "id": "4bf31604",
   "metadata": {
    "scrolled": true
   },
   "outputs": [
    {
     "data": {
      "text/html": [
       "<div>\n",
       "<style scoped>\n",
       "    .dataframe tbody tr th:only-of-type {\n",
       "        vertical-align: middle;\n",
       "    }\n",
       "\n",
       "    .dataframe tbody tr th {\n",
       "        vertical-align: top;\n",
       "    }\n",
       "\n",
       "    .dataframe thead th {\n",
       "        text-align: right;\n",
       "    }\n",
       "</style>\n",
       "<table border=\"1\" class=\"dataframe\">\n",
       "  <thead>\n",
       "    <tr style=\"text-align: right;\">\n",
       "      <th></th>\n",
       "      <th>PF</th>\n",
       "      <th>Ydsgained</th>\n",
       "      <th>OffenseTO</th>\n",
       "      <th>total1stD</th>\n",
       "      <th>OffPen</th>\n",
       "      <th>Sc%offense</th>\n",
       "      <th>PA</th>\n",
       "      <th>Ydsallowed</th>\n",
       "      <th>DeffenseTO</th>\n",
       "      <th>DefPen</th>\n",
       "      <th>Sc%against</th>\n",
       "      <th>W</th>\n",
       "      <th>L</th>\n",
       "      <th>T</th>\n",
       "      <th>PD</th>\n",
       "      <th>MoV</th>\n",
       "    </tr>\n",
       "  </thead>\n",
       "  <tbody>\n",
       "    <tr>\n",
       "      <th>0</th>\n",
       "      <td>1199</td>\n",
       "      <td>18004</td>\n",
       "      <td>61</td>\n",
       "      <td>1074</td>\n",
       "      <td>345</td>\n",
       "      <td>117.0</td>\n",
       "      <td>1182</td>\n",
       "      <td>17159</td>\n",
       "      <td>68</td>\n",
       "      <td>298</td>\n",
       "      <td>114.4</td>\n",
       "      <td>23</td>\n",
       "      <td>27</td>\n",
       "      <td>0</td>\n",
       "      <td>17</td>\n",
       "      <td>1.2</td>\n",
       "    </tr>\n",
       "    <tr>\n",
       "      <th>1</th>\n",
       "      <td>1074</td>\n",
       "      <td>16476</td>\n",
       "      <td>65</td>\n",
       "      <td>1002</td>\n",
       "      <td>243</td>\n",
       "      <td>117.1</td>\n",
       "      <td>1259</td>\n",
       "      <td>18724</td>\n",
       "      <td>58</td>\n",
       "      <td>309</td>\n",
       "      <td>130.2</td>\n",
       "      <td>18</td>\n",
       "      <td>32</td>\n",
       "      <td>0</td>\n",
       "      <td>-185</td>\n",
       "      <td>-10.9</td>\n",
       "    </tr>\n",
       "    <tr>\n",
       "      <th>2</th>\n",
       "      <td>1205</td>\n",
       "      <td>18010</td>\n",
       "      <td>65</td>\n",
       "      <td>1058</td>\n",
       "      <td>288</td>\n",
       "      <td>122.7</td>\n",
       "      <td>1010</td>\n",
       "      <td>16967</td>\n",
       "      <td>62</td>\n",
       "      <td>254</td>\n",
       "      <td>100.0</td>\n",
       "      <td>29</td>\n",
       "      <td>21</td>\n",
       "      <td>0</td>\n",
       "      <td>195</td>\n",
       "      <td>12.1</td>\n",
       "    </tr>\n",
       "    <tr>\n",
       "      <th>3</th>\n",
       "      <td>1439</td>\n",
       "      <td>19197</td>\n",
       "      <td>71</td>\n",
       "      <td>1162</td>\n",
       "      <td>307</td>\n",
       "      <td>139.6</td>\n",
       "      <td>950</td>\n",
       "      <td>15383</td>\n",
       "      <td>83</td>\n",
       "      <td>277</td>\n",
       "      <td>98.4</td>\n",
       "      <td>37</td>\n",
       "      <td>12</td>\n",
       "      <td>0</td>\n",
       "      <td>489</td>\n",
       "      <td>29.9</td>\n",
       "    </tr>\n",
       "    <tr>\n",
       "      <th>4</th>\n",
       "      <td>1001</td>\n",
       "      <td>15879</td>\n",
       "      <td>71</td>\n",
       "      <td>938</td>\n",
       "      <td>306</td>\n",
       "      <td>104.8</td>\n",
       "      <td>1180</td>\n",
       "      <td>16915</td>\n",
       "      <td>55</td>\n",
       "      <td>298</td>\n",
       "      <td>117.8</td>\n",
       "      <td>17</td>\n",
       "      <td>33</td>\n",
       "      <td>0</td>\n",
       "      <td>-179</td>\n",
       "      <td>-10.8</td>\n",
       "    </tr>\n",
       "    <tr>\n",
       "      <th>5</th>\n",
       "      <td>1009</td>\n",
       "      <td>15760</td>\n",
       "      <td>76</td>\n",
       "      <td>946</td>\n",
       "      <td>274</td>\n",
       "      <td>104.7</td>\n",
       "      <td>1240</td>\n",
       "      <td>17293</td>\n",
       "      <td>57</td>\n",
       "      <td>272</td>\n",
       "      <td>120.2</td>\n",
       "      <td>17</td>\n",
       "      <td>33</td>\n",
       "      <td>0</td>\n",
       "      <td>-231</td>\n",
       "      <td>-13.6</td>\n",
       "    </tr>\n",
       "    <tr>\n",
       "      <th>6</th>\n",
       "      <td>1189</td>\n",
       "      <td>17029</td>\n",
       "      <td>63</td>\n",
       "      <td>1012</td>\n",
       "      <td>236</td>\n",
       "      <td>117.1</td>\n",
       "      <td>1122</td>\n",
       "      <td>17562</td>\n",
       "      <td>62</td>\n",
       "      <td>315</td>\n",
       "      <td>113.6</td>\n",
       "      <td>26</td>\n",
       "      <td>22</td>\n",
       "      <td>1</td>\n",
       "      <td>67</td>\n",
       "      <td>3.8</td>\n",
       "    </tr>\n",
       "    <tr>\n",
       "      <th>7</th>\n",
       "      <td>1118</td>\n",
       "      <td>17638</td>\n",
       "      <td>59</td>\n",
       "      <td>1047</td>\n",
       "      <td>314</td>\n",
       "      <td>107.4</td>\n",
       "      <td>1171</td>\n",
       "      <td>16662</td>\n",
       "      <td>60</td>\n",
       "      <td>270</td>\n",
       "      <td>118.9</td>\n",
       "      <td>26</td>\n",
       "      <td>24</td>\n",
       "      <td>0</td>\n",
       "      <td>-53</td>\n",
       "      <td>-3.2</td>\n",
       "    </tr>\n",
       "    <tr>\n",
       "      <th>8</th>\n",
       "      <td>1392</td>\n",
       "      <td>18902</td>\n",
       "      <td>69</td>\n",
       "      <td>1108</td>\n",
       "      <td>327</td>\n",
       "      <td>125.9</td>\n",
       "      <td>1173</td>\n",
       "      <td>17763</td>\n",
       "      <td>90</td>\n",
       "      <td>310</td>\n",
       "      <td>109.1</td>\n",
       "      <td>30</td>\n",
       "      <td>20</td>\n",
       "      <td>0</td>\n",
       "      <td>219</td>\n",
       "      <td>12.6</td>\n",
       "    </tr>\n",
       "    <tr>\n",
       "      <th>9</th>\n",
       "      <td>945</td>\n",
       "      <td>16514</td>\n",
       "      <td>74</td>\n",
       "      <td>939</td>\n",
       "      <td>277</td>\n",
       "      <td>98.5</td>\n",
       "      <td>1127</td>\n",
       "      <td>16871</td>\n",
       "      <td>58</td>\n",
       "      <td>316</td>\n",
       "      <td>113.2</td>\n",
       "      <td>17</td>\n",
       "      <td>33</td>\n",
       "      <td>0</td>\n",
       "      <td>-182</td>\n",
       "      <td>-11.1</td>\n",
       "    </tr>\n",
       "    <tr>\n",
       "      <th>10</th>\n",
       "      <td>1155</td>\n",
       "      <td>17547</td>\n",
       "      <td>59</td>\n",
       "      <td>1055</td>\n",
       "      <td>290</td>\n",
       "      <td>116.0</td>\n",
       "      <td>1413</td>\n",
       "      <td>19842</td>\n",
       "      <td>53</td>\n",
       "      <td>293</td>\n",
       "      <td>136.9</td>\n",
       "      <td>17</td>\n",
       "      <td>32</td>\n",
       "      <td>1</td>\n",
       "      <td>-258</td>\n",
       "      <td>-15.8</td>\n",
       "    </tr>\n",
       "    <tr>\n",
       "      <th>11</th>\n",
       "      <td>1329</td>\n",
       "      <td>18184</td>\n",
       "      <td>46</td>\n",
       "      <td>1067</td>\n",
       "      <td>242</td>\n",
       "      <td>130.4</td>\n",
       "      <td>1111</td>\n",
       "      <td>16644</td>\n",
       "      <td>68</td>\n",
       "      <td>267</td>\n",
       "      <td>114.7</td>\n",
       "      <td>34</td>\n",
       "      <td>16</td>\n",
       "      <td>0</td>\n",
       "      <td>218</td>\n",
       "      <td>13.3</td>\n",
       "    </tr>\n",
       "    <tr>\n",
       "      <th>12</th>\n",
       "      <td>953</td>\n",
       "      <td>15551</td>\n",
       "      <td>68</td>\n",
       "      <td>869</td>\n",
       "      <td>282</td>\n",
       "      <td>98.3</td>\n",
       "      <td>1336</td>\n",
       "      <td>19655</td>\n",
       "      <td>61</td>\n",
       "      <td>260</td>\n",
       "      <td>125.1</td>\n",
       "      <td>11</td>\n",
       "      <td>38</td>\n",
       "      <td>1</td>\n",
       "      <td>-383</td>\n",
       "      <td>-22.8</td>\n",
       "    </tr>\n",
       "    <tr>\n",
       "      <th>13</th>\n",
       "      <td>1191</td>\n",
       "      <td>17248</td>\n",
       "      <td>68</td>\n",
       "      <td>1028</td>\n",
       "      <td>259</td>\n",
       "      <td>116.9</td>\n",
       "      <td>1154</td>\n",
       "      <td>16826</td>\n",
       "      <td>79</td>\n",
       "      <td>284</td>\n",
       "      <td>106.5</td>\n",
       "      <td>24</td>\n",
       "      <td>25</td>\n",
       "      <td>1</td>\n",
       "      <td>37</td>\n",
       "      <td>2.6</td>\n",
       "    </tr>\n",
       "    <tr>\n",
       "      <th>14</th>\n",
       "      <td>963</td>\n",
       "      <td>16484</td>\n",
       "      <td>76</td>\n",
       "      <td>966</td>\n",
       "      <td>301</td>\n",
       "      <td>96.0</td>\n",
       "      <td>1299</td>\n",
       "      <td>18691</td>\n",
       "      <td>53</td>\n",
       "      <td>272</td>\n",
       "      <td>129.2</td>\n",
       "      <td>13</td>\n",
       "      <td>37</td>\n",
       "      <td>0</td>\n",
       "      <td>-336</td>\n",
       "      <td>-20.4</td>\n",
       "    </tr>\n",
       "    <tr>\n",
       "      <th>15</th>\n",
       "      <td>1449</td>\n",
       "      <td>20431</td>\n",
       "      <td>64</td>\n",
       "      <td>1224</td>\n",
       "      <td>303</td>\n",
       "      <td>142.5</td>\n",
       "      <td>1095</td>\n",
       "      <td>17584</td>\n",
       "      <td>71</td>\n",
       "      <td>311</td>\n",
       "      <td>109.3</td>\n",
       "      <td>40</td>\n",
       "      <td>10</td>\n",
       "      <td>0</td>\n",
       "      <td>354</td>\n",
       "      <td>21.2</td>\n",
       "    </tr>\n",
       "    <tr>\n",
       "      <th>16</th>\n",
       "      <td>1203</td>\n",
       "      <td>18310</td>\n",
       "      <td>71</td>\n",
       "      <td>1051</td>\n",
       "      <td>335</td>\n",
       "      <td>131.3</td>\n",
       "      <td>1335</td>\n",
       "      <td>18173</td>\n",
       "      <td>43</td>\n",
       "      <td>287</td>\n",
       "      <td>132.7</td>\n",
       "      <td>24</td>\n",
       "      <td>26</td>\n",
       "      <td>0</td>\n",
       "      <td>-132</td>\n",
       "      <td>-8.0</td>\n",
       "    </tr>\n",
       "    <tr>\n",
       "      <th>17</th>\n",
       "      <td>1249</td>\n",
       "      <td>18855</td>\n",
       "      <td>57</td>\n",
       "      <td>1126</td>\n",
       "      <td>282</td>\n",
       "      <td>122.1</td>\n",
       "      <td>1269</td>\n",
       "      <td>17501</td>\n",
       "      <td>64</td>\n",
       "      <td>273</td>\n",
       "      <td>126.0</td>\n",
       "      <td>26</td>\n",
       "      <td>24</td>\n",
       "      <td>0</td>\n",
       "      <td>-20</td>\n",
       "      <td>-1.3</td>\n",
       "    </tr>\n",
       "    <tr>\n",
       "      <th>18</th>\n",
       "      <td>1139</td>\n",
       "      <td>17126</td>\n",
       "      <td>71</td>\n",
       "      <td>1000</td>\n",
       "      <td>223</td>\n",
       "      <td>113.6</td>\n",
       "      <td>1052</td>\n",
       "      <td>16172</td>\n",
       "      <td>69</td>\n",
       "      <td>248</td>\n",
       "      <td>104.8</td>\n",
       "      <td>27</td>\n",
       "      <td>23</td>\n",
       "      <td>0</td>\n",
       "      <td>87</td>\n",
       "      <td>5.5</td>\n",
       "    </tr>\n",
       "    <tr>\n",
       "      <th>19</th>\n",
       "      <td>1142</td>\n",
       "      <td>16840</td>\n",
       "      <td>67</td>\n",
       "      <td>1012</td>\n",
       "      <td>290</td>\n",
       "      <td>110.3</td>\n",
       "      <td>1110</td>\n",
       "      <td>17367</td>\n",
       "      <td>69</td>\n",
       "      <td>278</td>\n",
       "      <td>104.5</td>\n",
       "      <td>28</td>\n",
       "      <td>22</td>\n",
       "      <td>0</td>\n",
       "      <td>32</td>\n",
       "      <td>2.1</td>\n",
       "    </tr>\n",
       "    <tr>\n",
       "      <th>20</th>\n",
       "      <td>1279</td>\n",
       "      <td>18605</td>\n",
       "      <td>59</td>\n",
       "      <td>1097</td>\n",
       "      <td>281</td>\n",
       "      <td>115.1</td>\n",
       "      <td>1328</td>\n",
       "      <td>19422</td>\n",
       "      <td>71</td>\n",
       "      <td>287</td>\n",
       "      <td>131.3</td>\n",
       "      <td>28</td>\n",
       "      <td>22</td>\n",
       "      <td>0</td>\n",
       "      <td>-49</td>\n",
       "      <td>-3.1</td>\n",
       "    </tr>\n",
       "    <tr>\n",
       "      <th>21</th>\n",
       "      <td>1152</td>\n",
       "      <td>16592</td>\n",
       "      <td>65</td>\n",
       "      <td>982</td>\n",
       "      <td>261</td>\n",
       "      <td>117.7</td>\n",
       "      <td>1003</td>\n",
       "      <td>16418</td>\n",
       "      <td>82</td>\n",
       "      <td>271</td>\n",
       "      <td>98.8</td>\n",
       "      <td>25</td>\n",
       "      <td>25</td>\n",
       "      <td>0</td>\n",
       "      <td>149</td>\n",
       "      <td>8.7</td>\n",
       "    </tr>\n",
       "    <tr>\n",
       "      <th>22</th>\n",
       "      <td>1176</td>\n",
       "      <td>16874</td>\n",
       "      <td>60</td>\n",
       "      <td>979</td>\n",
       "      <td>295</td>\n",
       "      <td>110.9</td>\n",
       "      <td>1017</td>\n",
       "      <td>15736</td>\n",
       "      <td>65</td>\n",
       "      <td>245</td>\n",
       "      <td>101.8</td>\n",
       "      <td>28</td>\n",
       "      <td>22</td>\n",
       "      <td>0</td>\n",
       "      <td>159</td>\n",
       "      <td>9.9</td>\n",
       "    </tr>\n",
       "    <tr>\n",
       "      <th>23</th>\n",
       "      <td>903</td>\n",
       "      <td>15354</td>\n",
       "      <td>68</td>\n",
       "      <td>948</td>\n",
       "      <td>275</td>\n",
       "      <td>98.3</td>\n",
       "      <td>1144</td>\n",
       "      <td>17710</td>\n",
       "      <td>63</td>\n",
       "      <td>306</td>\n",
       "      <td>122.6</td>\n",
       "      <td>19</td>\n",
       "      <td>30</td>\n",
       "      <td>1</td>\n",
       "      <td>-241</td>\n",
       "      <td>-14.5</td>\n",
       "    </tr>\n",
       "    <tr>\n",
       "      <th>24</th>\n",
       "      <td>849</td>\n",
       "      <td>15096</td>\n",
       "      <td>69</td>\n",
       "      <td>873</td>\n",
       "      <td>295</td>\n",
       "      <td>85.6</td>\n",
       "      <td>1277</td>\n",
       "      <td>18249</td>\n",
       "      <td>49</td>\n",
       "      <td>273</td>\n",
       "      <td>125.8</td>\n",
       "      <td>13</td>\n",
       "      <td>37</td>\n",
       "      <td>0</td>\n",
       "      <td>-428</td>\n",
       "      <td>-26.0</td>\n",
       "    </tr>\n",
       "    <tr>\n",
       "      <th>25</th>\n",
       "      <td>1255</td>\n",
       "      <td>18087</td>\n",
       "      <td>64</td>\n",
       "      <td>1073</td>\n",
       "      <td>304</td>\n",
       "      <td>113.8</td>\n",
       "      <td>1147</td>\n",
       "      <td>16525</td>\n",
       "      <td>62</td>\n",
       "      <td>299</td>\n",
       "      <td>107.4</td>\n",
       "      <td>27</td>\n",
       "      <td>22</td>\n",
       "      <td>1</td>\n",
       "      <td>108</td>\n",
       "      <td>6.0</td>\n",
       "    </tr>\n",
       "    <tr>\n",
       "      <th>26</th>\n",
       "      <td>1067</td>\n",
       "      <td>16199</td>\n",
       "      <td>57</td>\n",
       "      <td>990</td>\n",
       "      <td>281</td>\n",
       "      <td>106.9</td>\n",
       "      <td>1056</td>\n",
       "      <td>16649</td>\n",
       "      <td>72</td>\n",
       "      <td>322</td>\n",
       "      <td>105.3</td>\n",
       "      <td>30</td>\n",
       "      <td>19</td>\n",
       "      <td>1</td>\n",
       "      <td>11</td>\n",
       "      <td>1.1</td>\n",
       "    </tr>\n",
       "    <tr>\n",
       "      <th>27</th>\n",
       "      <td>1253</td>\n",
       "      <td>18525</td>\n",
       "      <td>72</td>\n",
       "      <td>1058</td>\n",
       "      <td>281</td>\n",
       "      <td>118.9</td>\n",
       "      <td>1032</td>\n",
       "      <td>15410</td>\n",
       "      <td>70</td>\n",
       "      <td>269</td>\n",
       "      <td>98.4</td>\n",
       "      <td>29</td>\n",
       "      <td>21</td>\n",
       "      <td>0</td>\n",
       "      <td>221</td>\n",
       "      <td>12.9</td>\n",
       "    </tr>\n",
       "    <tr>\n",
       "      <th>28</th>\n",
       "      <td>1261</td>\n",
       "      <td>17394</td>\n",
       "      <td>54</td>\n",
       "      <td>1004</td>\n",
       "      <td>287</td>\n",
       "      <td>119.8</td>\n",
       "      <td>1138</td>\n",
       "      <td>18683</td>\n",
       "      <td>65</td>\n",
       "      <td>288</td>\n",
       "      <td>112.6</td>\n",
       "      <td>28</td>\n",
       "      <td>22</td>\n",
       "      <td>0</td>\n",
       "      <td>123</td>\n",
       "      <td>7.6</td>\n",
       "    </tr>\n",
       "    <tr>\n",
       "      <th>29</th>\n",
       "      <td>1316</td>\n",
       "      <td>18940</td>\n",
       "      <td>58</td>\n",
       "      <td>1114</td>\n",
       "      <td>280</td>\n",
       "      <td>124.1</td>\n",
       "      <td>1066</td>\n",
       "      <td>16382</td>\n",
       "      <td>74</td>\n",
       "      <td>271</td>\n",
       "      <td>100.2</td>\n",
       "      <td>32</td>\n",
       "      <td>18</td>\n",
       "      <td>0</td>\n",
       "      <td>250</td>\n",
       "      <td>15.3</td>\n",
       "    </tr>\n",
       "    <tr>\n",
       "      <th>30</th>\n",
       "      <td>1208</td>\n",
       "      <td>17210</td>\n",
       "      <td>60</td>\n",
       "      <td>1020</td>\n",
       "      <td>300</td>\n",
       "      <td>114.7</td>\n",
       "      <td>1152</td>\n",
       "      <td>17957</td>\n",
       "      <td>65</td>\n",
       "      <td>336</td>\n",
       "      <td>116.2</td>\n",
       "      <td>30</td>\n",
       "      <td>20</td>\n",
       "      <td>0</td>\n",
       "      <td>56</td>\n",
       "      <td>3.5</td>\n",
       "    </tr>\n",
       "    <tr>\n",
       "      <th>31</th>\n",
       "      <td>991</td>\n",
       "      <td>16193</td>\n",
       "      <td>74</td>\n",
       "      <td>1006</td>\n",
       "      <td>261</td>\n",
       "      <td>97.3</td>\n",
       "      <td>1106</td>\n",
       "      <td>16159</td>\n",
       "      <td>60</td>\n",
       "      <td>266</td>\n",
       "      <td>105.3</td>\n",
       "      <td>22</td>\n",
       "      <td>27</td>\n",
       "      <td>1</td>\n",
       "      <td>-115</td>\n",
       "      <td>-6.7</td>\n",
       "    </tr>\n",
       "  </tbody>\n",
       "</table>\n",
       "</div>"
      ],
      "text/plain": [
       "      PF  Ydsgained  OffenseTO  total1stD  OffPen  Sc%offense    PA  \\\n",
       "0   1199      18004         61       1074     345       117.0  1182   \n",
       "1   1074      16476         65       1002     243       117.1  1259   \n",
       "2   1205      18010         65       1058     288       122.7  1010   \n",
       "3   1439      19197         71       1162     307       139.6   950   \n",
       "4   1001      15879         71        938     306       104.8  1180   \n",
       "5   1009      15760         76        946     274       104.7  1240   \n",
       "6   1189      17029         63       1012     236       117.1  1122   \n",
       "7   1118      17638         59       1047     314       107.4  1171   \n",
       "8   1392      18902         69       1108     327       125.9  1173   \n",
       "9    945      16514         74        939     277        98.5  1127   \n",
       "10  1155      17547         59       1055     290       116.0  1413   \n",
       "11  1329      18184         46       1067     242       130.4  1111   \n",
       "12   953      15551         68        869     282        98.3  1336   \n",
       "13  1191      17248         68       1028     259       116.9  1154   \n",
       "14   963      16484         76        966     301        96.0  1299   \n",
       "15  1449      20431         64       1224     303       142.5  1095   \n",
       "16  1203      18310         71       1051     335       131.3  1335   \n",
       "17  1249      18855         57       1126     282       122.1  1269   \n",
       "18  1139      17126         71       1000     223       113.6  1052   \n",
       "19  1142      16840         67       1012     290       110.3  1110   \n",
       "20  1279      18605         59       1097     281       115.1  1328   \n",
       "21  1152      16592         65        982     261       117.7  1003   \n",
       "22  1176      16874         60        979     295       110.9  1017   \n",
       "23   903      15354         68        948     275        98.3  1144   \n",
       "24   849      15096         69        873     295        85.6  1277   \n",
       "25  1255      18087         64       1073     304       113.8  1147   \n",
       "26  1067      16199         57        990     281       106.9  1056   \n",
       "27  1253      18525         72       1058     281       118.9  1032   \n",
       "28  1261      17394         54       1004     287       119.8  1138   \n",
       "29  1316      18940         58       1114     280       124.1  1066   \n",
       "30  1208      17210         60       1020     300       114.7  1152   \n",
       "31   991      16193         74       1006     261        97.3  1106   \n",
       "\n",
       "    Ydsallowed  DeffenseTO  DefPen  Sc%against   W   L  T   PD   MoV  \n",
       "0        17159          68     298       114.4  23  27  0   17   1.2  \n",
       "1        18724          58     309       130.2  18  32  0 -185 -10.9  \n",
       "2        16967          62     254       100.0  29  21  0  195  12.1  \n",
       "3        15383          83     277        98.4  37  12  0  489  29.9  \n",
       "4        16915          55     298       117.8  17  33  0 -179 -10.8  \n",
       "5        17293          57     272       120.2  17  33  0 -231 -13.6  \n",
       "6        17562          62     315       113.6  26  22  1   67   3.8  \n",
       "7        16662          60     270       118.9  26  24  0  -53  -3.2  \n",
       "8        17763          90     310       109.1  30  20  0  219  12.6  \n",
       "9        16871          58     316       113.2  17  33  0 -182 -11.1  \n",
       "10       19842          53     293       136.9  17  32  1 -258 -15.8  \n",
       "11       16644          68     267       114.7  34  16  0  218  13.3  \n",
       "12       19655          61     260       125.1  11  38  1 -383 -22.8  \n",
       "13       16826          79     284       106.5  24  25  1   37   2.6  \n",
       "14       18691          53     272       129.2  13  37  0 -336 -20.4  \n",
       "15       17584          71     311       109.3  40  10  0  354  21.2  \n",
       "16       18173          43     287       132.7  24  26  0 -132  -8.0  \n",
       "17       17501          64     273       126.0  26  24  0  -20  -1.3  \n",
       "18       16172          69     248       104.8  27  23  0   87   5.5  \n",
       "19       17367          69     278       104.5  28  22  0   32   2.1  \n",
       "20       19422          71     287       131.3  28  22  0  -49  -3.1  \n",
       "21       16418          82     271        98.8  25  25  0  149   8.7  \n",
       "22       15736          65     245       101.8  28  22  0  159   9.9  \n",
       "23       17710          63     306       122.6  19  30  1 -241 -14.5  \n",
       "24       18249          49     273       125.8  13  37  0 -428 -26.0  \n",
       "25       16525          62     299       107.4  27  22  1  108   6.0  \n",
       "26       16649          72     322       105.3  30  19  1   11   1.1  \n",
       "27       15410          70     269        98.4  29  21  0  221  12.9  \n",
       "28       18683          65     288       112.6  28  22  0  123   7.6  \n",
       "29       16382          74     271       100.2  32  18  0  250  15.3  \n",
       "30       17957          65     336       116.2  30  20  0   56   3.5  \n",
       "31       16159          60     266       105.3  22  27  1 -115  -6.7  "
      ]
     },
     "execution_count": 18,
     "metadata": {},
     "output_type": "execute_result"
    }
   ],
   "source": [
    "final_merged_data"
   ]
  },
  {
   "cell_type": "markdown",
   "id": "0387d2fa",
   "metadata": {},
   "source": [
    "Graphical Analysis:"
   ]
  },
  {
   "cell_type": "code",
   "execution_count": 19,
   "id": "845bab9a",
   "metadata": {},
   "outputs": [],
   "source": [
    "wins = final_merged_data[\"W\"]\n",
    "offensive_scoring = final_merged_data[\"PF\"]\n",
    "defensive_scoring_allowed = final_merged_data[\"PA\"]\n",
    "offensive_yrds = final_merged_data[\"Ydsgained\"]\n",
    "defensive_yrds = final_merged_data[\"Ydsallowed\"]"
   ]
  },
  {
   "cell_type": "markdown",
   "id": "8e6a61e7",
   "metadata": {},
   "source": [
    "With this graphical analysis I want to compare the four statistics that I think will have the biggest impact on wins, these are Points Scored, Points Allowed, Yards Gained, and Yards allowed. "
   ]
  },
  {
   "cell_type": "code",
   "execution_count": 20,
   "id": "07088a06",
   "metadata": {},
   "outputs": [
    {
     "name": "stdout",
     "output_type": "stream",
     "text": [
      "Wins Vs Points Scored\n"
     ]
    },
    {
     "data": {
      "image/png": "[encoded data removed]",
      "text/plain": [
       "<Figure size 432x288 with 1 Axes>"
      ]
     },
     "metadata": {
      "needs_background": "light"
     },
     "output_type": "display_data"
    }
   ],
   "source": [
    "print(\"Wins Vs Points Scored\")\n",
    "plt.scatter(wins, offensive_scoring, c=np.random.rand(len(wins),3))\n",
    "\n",
    "plt.xlabel(\"Wins\")\n",
    "plt.ylabel(\"Points Scored\")\n",
    "plt.show()"
   ]
  },
  {
   "cell_type": "code",
   "execution_count": 21,
   "id": "51dc9c9c",
   "metadata": {},
   "outputs": [
    {
     "name": "stdout",
     "output_type": "stream",
     "text": [
      "Wins Vs Points Allowed\n"
     ]
    },
    {
     "data": {
      "image/png": "[encoded data removed]",
      "text/plain": [
       "<Figure size 432x288 with 1 Axes>"
      ]
     },
     "metadata": {
      "needs_background": "light"
     },
     "output_type": "display_data"
    }
   ],
   "source": [
    "print(\"Wins Vs Points Allowed\")\n",
    "plt.scatter(wins, defensive_scoring_allowed, c=np.random.rand(len(wins),3))\n",
    "\n",
    "plt.xlabel(\"Wins\")\n",
    "plt.ylabel(\"Points Allowed\")\n",
    "plt.show()"
   ]
  },
  {
   "cell_type": "code",
   "execution_count": 22,
   "id": "51122881",
   "metadata": {},
   "outputs": [
    {
     "name": "stdout",
     "output_type": "stream",
     "text": [
      "Wins Vs Yards Gained\n"
     ]
    },
    {
     "data": {
      "image/png": "[encoded data removed]",
      "text/plain": [
       "<Figure size 432x288 with 1 Axes>"
      ]
     },
     "metadata": {
      "needs_background": "light"
     },
     "output_type": "display_data"
    }
   ],
   "source": [
    "print(\"Wins Vs Yards Gained\")\n",
    "plt.scatter(wins, offensive_yrds, c=np.random.rand(len(wins),3))\n",
    "\n",
    "plt.xlabel(\"Wins\")\n",
    "plt.ylabel(\"Yards Gained\")\n",
    "plt.show()"
   ]
  },
  {
   "cell_type": "code",
   "execution_count": 23,
   "id": "236ce673",
   "metadata": {},
   "outputs": [
    {
     "name": "stdout",
     "output_type": "stream",
     "text": [
      "Wins Vs Yards Allowed\n"
     ]
    },
    {
     "data": {
      "image/png": "[encoded data removed]",
      "text/plain": [
       "<Figure size 432x288 with 1 Axes>"
      ]
     },
     "metadata": {
      "needs_background": "light"
     },
     "output_type": "display_data"
    }
   ],
   "source": [
    "print(\"Wins Vs Yards Allowed\")\n",
    "plt.scatter(wins, defensive_yrds, c=np.random.rand(len(wins),3))\n",
    "\n",
    "plt.xlabel(\"Wins\")\n",
    "plt.ylabel(\"Yards Allowed\")\n",
    "plt.show()"
   ]
  },
  {
   "cell_type": "markdown",
   "id": "5f5628d5",
   "metadata": {},
   "source": [
    "Model Building:"
   ]
  },
  {
   "cell_type": "markdown",
   "id": "be89ed06",
   "metadata": {},
   "source": [
    "Here I will build a logistic regression model with the statistics. The target will be Wins and the test/train split will be 75% to 25%"
   ]
  },
  {
   "cell_type": "code",
   "execution_count": 24,
   "id": "6a144d96",
   "metadata": {},
   "outputs": [],
   "source": [
    "Y = final_merged_data.W\n",
    "X = final_merged_data.drop('W',axis=1)"
   ]
  },
  {
   "cell_type": "code",
   "execution_count": 25,
   "id": "b7bebda3",
   "metadata": {},
   "outputs": [],
   "source": [
    "x_train, x_test, y_train, y_test = train_test_split(X, Y, test_size=0.25, random_state=1)"
   ]
  },
  {
   "cell_type": "code",
   "execution_count": 26,
   "id": "80bb3525",
   "metadata": {},
   "outputs": [],
   "source": [
    "pipe = make_pipeline(StandardScaler(), LogisticRegression())"
   ]
  },
  {
   "cell_type": "code",
   "execution_count": 27,
   "id": "605ae861",
   "metadata": {
    "scrolled": true
   },
   "outputs": [
    {
     "data": {
      "text/plain": [
       "Pipeline(steps=[('standardscaler', StandardScaler()),\n",
       "                ('logisticregression', LogisticRegression())])"
      ]
     },
     "execution_count": 27,
     "metadata": {},
     "output_type": "execute_result"
    }
   ],
   "source": [
    "pipe.fit(x_train, y_train)"
   ]
  },
  {
   "cell_type": "markdown",
   "id": "9bb3b829",
   "metadata": {},
   "source": [
    "Model Evaluation:"
   ]
  },
  {
   "cell_type": "markdown",
   "id": "260900ce",
   "metadata": {},
   "source": [
    "For the model evaluation I will be showing the accuracy of my model and finding which statistics had the most importance to the model as well. "
   ]
  },
  {
   "cell_type": "code",
   "execution_count": 28,
   "id": "e0816f91",
   "metadata": {},
   "outputs": [
    {
     "data": {
      "text/plain": [
       "0.375"
      ]
     },
     "execution_count": 28,
     "metadata": {},
     "output_type": "execute_result"
    }
   ],
   "source": [
    "pipe.score(x_test, y_test)"
   ]
  },
  {
   "cell_type": "code",
   "execution_count": 89,
   "id": "3e6a5a12",
   "metadata": {},
   "outputs": [],
   "source": [
    "feature_names = x_train.columns"
   ]
  },
  {
   "cell_type": "code",
   "execution_count": 90,
   "id": "addbda7b",
   "metadata": {},
   "outputs": [],
   "source": [
    "coefs = pipe.named_steps[\"logisticregression\"].coef_.flatten()"
   ]
  },
  {
   "cell_type": "code",
   "execution_count": 91,
   "id": "dcb7abb7",
   "metadata": {},
   "outputs": [],
   "source": [
    "zipped = zip(feature_names, coefs)"
   ]
  },
  {
   "cell_type": "code",
   "execution_count": 92,
   "id": "727910a0",
   "metadata": {},
   "outputs": [],
   "source": [
    "df = pd.DataFrame(zipped, columns=[\"feature\", \"value\"])"
   ]
  },
  {
   "cell_type": "code",
   "execution_count": 93,
   "id": "7bd07923",
   "metadata": {},
   "outputs": [],
   "source": [
    "df[\"abs_value\"] = df[\"value\"].apply(lambda x: abs(x))\n",
    "df[\"colors\"] = df[\"value\"].apply(lambda x: \"green\" if x > 0 else \"red\")\n",
    "df = df.sort_values(\"abs_value\", ascending=False)"
   ]
  },
  {
   "cell_type": "code",
   "execution_count": 98,
   "id": "4e792ac3",
   "metadata": {
    "scrolled": false
   },
   "outputs": [
    {
     "data": {
      "text/plain": [
       "Text(0.5, 0, 'Stat')"
      ]
     },
     "execution_count": 98,
     "metadata": {},
     "output_type": "execute_result"
    },
    {
     "data": {
      "image/png": "[encoded data removed]",
      "text/plain": [
       "<Figure size 864x504 with 1 Axes>"
      ]
     },
     "metadata": {
      "needs_background": "light"
     },
     "output_type": "display_data"
    }
   ],
   "source": [
    "fig, ax = plt.subplots(1, 1, figsize=(12, 7))\n",
    "sns.barplot(x=\"feature\",\n",
    "            y=\"value\",\n",
    "            data=df,\n",
    "           palette=df[\"colors\"])\n",
    "ax.set_xticklabels(ax.get_xticklabels(), rotation=90, fontsize=20)\n",
    "ax.set_title(\"'Statistic Importance'\", fontsize=25)\n",
    "ax.set_ylabel(\"Score\", fontsize=22)\n",
    "ax.set_xlabel(\"Stat\", fontsize=22)"
   ]
  },
  {
   "cell_type": "markdown",
   "id": "9925903f",
   "metadata": {},
   "source": [
    "Conclusion: "
   ]
  },
  {
   "cell_type": "markdown",
   "id": "76c996e7",
   "metadata": {},
   "source": [
    "My model is telling me that the most important statistics that effect wins is Losses, Ties (which makes sense since if it's not a win then it's on of those) Yards allowed, Points against, Defensive Turnovers, Scoring % against, and offensive turnovers. This can tell a football team that defense could potentially have a bigger impact on winning then offense, since most of the positive importance stats are on the defensive side of the ball. I believe this model is ready to be deployed but could use some imporovements beforehand to make sure things are relevant. I think taking out Losses and Ties and replacing them with two other statistics would make it better and tell a coach more. I think another additional opportunity that would improve this model is to use even more statistics, you could use a longer period of time so the model has more data to work with which could make it even more accurate and show more of a representation of the league. You could even break up the last 20 years into 5 year blocks to see if there is a trend in the way football is played. Maybe 20 years ago offense mattered but now it's trending towards defense, and continuing to make these models may allow a coach to see when offense becomes a bigger part of winning.  "
   ]
  },
  {
   "cell_type": "code",
   "execution_count": null,
   "id": "40aca2fb",
   "metadata": {},
   "outputs": [],
   "source": [
    "What does the analysis/model building tell you?\n",
    "Is this model ready to be deployed?\n",
    "What are your recommendations?\n",
    "What are some of the potential challenges or additional opportunities that still need to be explored?"
   ]
  }
 ],
 "metadata": {
  "kernelspec": {
   "display_name": "Python 3 (ipykernel)",
   "language": "python",
   "name": "python3"
  },
  "language_info": {
   "codemirror_mode": {
    "name": "ipython",
    "version": 3
   },
   "file_extension": ".py",
   "mimetype": "text/x-python",
   "name": "python",
   "nbconvert_exporter": "python",
   "pygments_lexer": "ipython3",
   "version": "3.9.12"
  }
 },
 "nbformat": 4,
 "nbformat_minor": 5
}
